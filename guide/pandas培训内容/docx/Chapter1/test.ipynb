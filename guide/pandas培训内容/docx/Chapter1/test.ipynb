{
 "cells": [
  {
   "cell_type": "markdown",
   "id": "742385eb-4138-44ef-8f39-c86095d5b1f4",
   "metadata": {},
   "source": [
    "# 这是第一级标题"
   ]
  },
  {
   "cell_type": "markdown",
   "id": "9f4839ef-ab87-4ee3-a100-64489e99bd9f",
   "metadata": {},
   "source": [
    "## 这是第二级标题"
   ]
  },
  {
   "cell_type": "code",
   "execution_count": null,
   "id": "6b750f92-31c2-4500-b6f8-9fd620e4d8d0",
   "metadata": {},
   "outputs": [],
   "source": []
  },
  {
   "cell_type": "markdown",
   "id": "7fffe40f-7215-445f-84b8-522d20a1a64a",
   "metadata": {},
   "source": [
    "* 这是一个段落\n",
    "    * 这是另一个段落"
   ]
  },
  {
   "cell_type": "code",
   "execution_count": null,
   "id": "1809ef43-bedd-40bc-ba9e-fb146093fb26",
   "metadata": {},
   "outputs": [],
   "source": []
  }
 ],
 "metadata": {
  "kernelspec": {
   "display_name": "Python 3 (ipykernel)",
   "language": "python",
   "name": "python3"
  },
  "language_info": {
   "codemirror_mode": {
    "name": "ipython",
    "version": 3
   },
   "file_extension": ".py",
   "mimetype": "text/x-python",
   "name": "python",
   "nbconvert_exporter": "python",
   "pygments_lexer": "ipython3",
   "version": "3.8.19"
  }
 },
 "nbformat": 4,
 "nbformat_minor": 5
}
